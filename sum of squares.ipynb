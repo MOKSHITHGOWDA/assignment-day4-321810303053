{
 "cells": [
  {
   "cell_type": "code",
   "execution_count": null,
   "metadata": {},
   "outputs": [],
   "source": [
    "def square(a):\n",
    "    if(a==0):\n",
    "        print(\"invalid number\")\n",
    "    else:\n",
    "        b=0\n",
    "        for i in range(1, a+1):\n",
    "            b=b+i*i\n",
    "        print(\"square of sum of natural no is:\",b)\n",
    "a=int(input(\"enter a number:\"))\n",
    "square(a)"
   ]
  }
 ],
 "metadata": {
  "kernelspec": {
   "display_name": "Python 3",
   "language": "python",
   "name": "python3"
  },
  "language_info": {
   "codemirror_mode": {
    "name": "ipython",
    "version": 3
   },
   "file_extension": ".py",
   "mimetype": "text/x-python",
   "name": "python",
   "nbconvert_exporter": "python",
   "pygments_lexer": "ipython3",
   "version": "3.7.6"
  }
 },
 "nbformat": 4,
 "nbformat_minor": 4
}
